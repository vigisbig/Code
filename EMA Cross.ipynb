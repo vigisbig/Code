{
  "nbformat": 4,
  "nbformat_minor": 0,
  "metadata": {
    "colab": {
      "provenance": [],
      "authorship_tag": "ABX9TyOPf5u2uA8wLqx35zF05Rr4",
      "include_colab_link": true
    },
    "kernelspec": {
      "name": "python3",
      "display_name": "Python 3"
    },
    "language_info": {
      "name": "python"
    }
  },
  "cells": [
    {
      "cell_type": "markdown",
      "metadata": {
        "id": "view-in-github",
        "colab_type": "text"
      },
      "source": [
        "<a href=\"https://colab.research.google.com/github/vigisbig/Code/blob/master/EMA%20Cross.ipynb\" target=\"_parent\"><img src=\"https://colab.research.google.com/assets/colab-badge.svg\" alt=\"Open In Colab\"/></a>"
      ]
    },
    {
      "cell_type": "code",
      "execution_count": 1,
      "metadata": {
        "id": "g2dkP3QFLhQg"
      },
      "outputs": [],
      "source": [
        "%matplotlib inline"
      ]
    },
    {
      "cell_type": "code",
      "source": [
        "import numpy as np \n",
        "import pandas as pd\n",
        "import matplotlib.pyplot as plt\n",
        "import datetime\n",
        "from tabulate import tabulate\n",
        "import warnings\n",
        "warnings.filterwarnings('ignore')\n",
        "import pandas_datareader.data as web"
      ],
      "metadata": {
        "id": "-XQ9zOLxL-Ir"
      },
      "execution_count": 2,
      "outputs": []
    },
    {
      "cell_type": "code",
      "source": [
        "def MovingAverageCrossStrategy(stock_symbol = 'ULTRACEMCO.NS', start_date = '2018-01-01', end_date = '2020-01-01', \n",
        "                               short_window = 20, long_window = 50, moving_avg = 'SMA', display_table = True):\n",
        "    '''\n",
        "    The function takes the stock symbol, time-duration of analysis, \n",
        "    look-back periods and the moving-average type(SMA or EMA) as input \n",
        "    and returns the respective MA Crossover chart along with the buy/sell signals for the given period.\n",
        "    '''\n",
        "    # stock_symbol - (str)stock ticker as on Yahoo finance. Eg: 'ULTRACEMCO.NS' \n",
        "    # start_date - (str)start analysis from this date (format: 'YYYY-MM-DD') Eg: '2018-01-01'\n",
        "    # end_date - (str)end analysis on this date (format: 'YYYY-MM-DD') Eg: '2020-01-01'\n",
        "    # short_window - (int)lookback period for short-term moving average. Eg: 5, 10, 20 \n",
        "    # long_window - (int)lookback period for long-term moving average. Eg: 50, 100, 200\n",
        "    # moving_avg - (str)the type of moving average to use ('SMA' or 'EMA')\n",
        "    # display_table - (bool)whether to display the date and price table at buy/sell positions(True/False)\n",
        "\n",
        "    # import the closing price data of the stock for the aforementioned period of time in Pandas dataframe\n",
        "    start = datetime.datetime(*map(int, start_date.split('-')))\n",
        "    end = datetime.datetime(*map(int, end_date.split('-'))) \n",
        "    stock_df = web.DataReader(stock_symbol, 'yahoo', start = start, end = end)['Close']\n",
        "    stock_df = pd.DataFrame(stock_df) # convert Series object to dataframe \n",
        "    stock_df.columns = {'Close Price'} # assign new colun name\n",
        "    stock_df.dropna(axis = 0, inplace = True) # remove any null rows \n",
        "                        \n",
        "    # column names for long and short moving average columns\n",
        "    short_window_col = str(short_window) + '_' + moving_avg\n",
        "    long_window_col = str(long_window) + '_' + moving_avg  \n",
        "  \n",
        "    if moving_avg == 'SMA':\n",
        "        # Create a short simple moving average column\n",
        "        stock_df[short_window_col] = stock_df['Close Price'].rolling(window = short_window, min_periods = 1).mean()\n",
        "\n",
        "        # Create a long simple moving average column\n",
        "        stock_df[long_window_col] = stock_df['Close Price'].rolling(window = long_window, min_periods = 1).mean()\n",
        "\n",
        "    elif moving_avg == 'EMA':\n",
        "        # Create short exponential moving average column\n",
        "        stock_df[short_window_col] = stock_df['Close Price'].ewm(span = short_window, adjust = False).mean()\n",
        "\n",
        "        # Create a long exponential moving average column\n",
        "        stock_df[long_window_col] = stock_df['Close Price'].ewm(span = long_window, adjust = False).mean()\n",
        "\n",
        "    # create a new column 'Signal' such that if faster moving average is greater than slower moving average \n",
        "    # then set Signal as 1 else 0.\n",
        "    stock_df['Signal'] = 0.0  \n",
        "    stock_df['Signal'] = np.where(stock_df[short_window_col] > stock_df[long_window_col], 1.0, 0.0) \n",
        "\n",
        "    # create a new column 'Position' which is a day-to-day difference of the 'Signal' column. \n",
        "    stock_df['Position'] = stock_df['Signal'].diff()\n",
        "\n",
        "    # plot close price, short-term and long-term moving averages\n",
        "    plt.figure(figsize = (20,10))\n",
        "    plt.tick_params(axis = 'both', labelsize = 14)\n",
        "    stock_df['Close Price'].plot(color = 'k', lw = 1, label = 'Close Price')  \n",
        "    stock_df[short_window_col].plot(color = 'b', lw = 1, label = short_window_col)\n",
        "    stock_df[long_window_col].plot(color = 'g', lw = 1, label = long_window_col) \n",
        "\n",
        "    # plot 'buy' signals\n",
        "    plt.plot(stock_df[stock_df['Position'] == 1].index, \n",
        "            stock_df[short_window_col][stock_df['Position'] == 1], \n",
        "            '^', markersize = 15, color = 'g', alpha = 0.7, label = 'buy')\n",
        "\n",
        "    # plot 'sell' signals\n",
        "    plt.plot(stock_df[stock_df['Position'] == -1].index, \n",
        "            stock_df[short_window_col][stock_df['Position'] == -1], \n",
        "            'v', markersize = 15, color = 'r', alpha = 0.7, label = 'sell')\n",
        "    plt.ylabel('Price in ₹', fontsize = 16 )\n",
        "    plt.xlabel('Date', fontsize = 16 )\n",
        "    plt.title(str(stock_symbol) + ' - ' + str(moving_avg) + ' Crossover', fontsize = 20)\n",
        "    plt.legend()\n",
        "    plt.grid()\n",
        "    plt.show()\n",
        "    \n",
        "    if display_table == True:\n",
        "        df_pos = stock_df[(stock_df['Position'] == 1) | (stock_df['Position'] == -1)]\n",
        "        df_pos['Position'] = df_pos['Position'].apply(lambda x: 'Buy' if x == 1 else 'Sell')\n",
        "        print(tabulate(df_pos, headers = 'keys', tablefmt = 'psql'))"
      ],
      "metadata": {
        "id": "0xLDZzCTMNzF"
      },
      "execution_count": 3,
      "outputs": []
    },
    {
      "cell_type": "code",
      "source": [
        "# set start and end dates\n",
        "start = datetime.datetime(2018, 2, 1)\n",
        "end = datetime.datetime(2020, 2, 1)\n",
        "# extract the daily closing price data\n",
        "ultratech_df = web.DataReader(['ULTRACEMCO.NS'], 'yahoo', start = start, end = end)['Close']\n",
        "ultratech_df.columns = {'Close Price'}\n",
        "# Create 20 days exponential moving average column\n",
        "ultratech_df['20_EMA'] = ultratech_df['Close Price'].ewm(span = 20, adjust = False).mean()\n",
        "# Create 50 days exponential moving average column\n",
        "ultratech_df['50_EMA'] = ultratech_df['Close Price'].ewm(span = 50, adjust = False).mean()\n",
        "# create a new column 'Signal' such that if 20-day EMA is greater   # than 50-day EMA then set Signal as 1 else 0\n",
        "  \n",
        "ultratech_df['Signal'] = 0.0  \n",
        "ultratech_df['Signal'] = np.where(ultratech_df['20_EMA'] > ultratech_df['50_EMA'], 1.0, 0.0)\n",
        "# create a new column 'Position' which is a day-to-day difference of # the 'Signal' column\n",
        "ultratech_df['Position'] = ultratech_df['Signal'].diff()\n",
        "plt.figure(figsize = (20,10))\n",
        "# plot close price, short-term and long-term moving averages \n",
        "ultratech_df['Close Price'].plot(color = 'k', lw = 1, label = 'Close Price')  \n",
        "ultratech_df['20_EMA'].plot(color = 'b', lw = 1, label = '20-day EMA') \n",
        "ultratech_df['50_EMA'].plot(color = 'g', lw = 1, label = '50-day EMA')\n",
        "# plot ‘buy’ and 'sell' signals\n",
        "plt.plot(ultratech_df[ultratech_df[\"Position\"] == 1].index, \n",
        "         ultratech_df[\"20_EMA\"][ultratech_df[\"Position\"] == 1], \n",
        "         \"^\", markersize = 15, color = \"g\", label = 'buy')\n",
        "plt.plot(ultratech_df[ultratech_df[\"Position\"] == -1].index, \n",
        "         ultratech_df[\"20_EMA\"][ultratech_df[\"Position\"] == -1], \n",
        "         \"v\", markersize = 15, color = \"r\", label = 'sell')\n",
        "plt.ylabel('Price in Rupees', fontsize = 15 )\n",
        "plt.xlabel('Date', fontsize = 15 )\n",
        "plt.title('ULTRACEMCO - EMA Crossover', fontsize = 20)\n",
        "plt.legend()\n",
        "plt.grid()\n",
        "plt.show()"
      ],
      "metadata": {
        "colab": {
          "base_uri": "https://localhost:8080/",
          "height": 745
        },
        "id": "IXDjwWLoMnx2",
        "outputId": "da38e5bf-6872-4714-cc50-1b9412a73628"
      },
      "execution_count": 12,
      "outputs": [
        {
          "output_type": "error",
          "ename": "RemoteDataError",
          "evalue": "ignored",
          "traceback": [
            "\u001b[0;31m---------------------------------------------------------------------------\u001b[0m",
            "\u001b[0;31mRemoteDataError\u001b[0m                           Traceback (most recent call last)",
            "\u001b[0;32m<ipython-input-12-b874506a3d47>\u001b[0m in \u001b[0;36m<module>\u001b[0;34m\u001b[0m\n\u001b[1;32m      3\u001b[0m \u001b[0mend\u001b[0m \u001b[0;34m=\u001b[0m \u001b[0mdatetime\u001b[0m\u001b[0;34m.\u001b[0m\u001b[0mdatetime\u001b[0m\u001b[0;34m(\u001b[0m\u001b[0;36m2020\u001b[0m\u001b[0;34m,\u001b[0m \u001b[0;36m2\u001b[0m\u001b[0;34m,\u001b[0m \u001b[0;36m1\u001b[0m\u001b[0;34m)\u001b[0m\u001b[0;34m\u001b[0m\u001b[0;34m\u001b[0m\u001b[0m\n\u001b[1;32m      4\u001b[0m \u001b[0;31m# extract the daily closing price data\u001b[0m\u001b[0;34m\u001b[0m\u001b[0;34m\u001b[0m\u001b[0;34m\u001b[0m\u001b[0m\n\u001b[0;32m----> 5\u001b[0;31m \u001b[0multratech_df\u001b[0m \u001b[0;34m=\u001b[0m \u001b[0mweb\u001b[0m\u001b[0;34m.\u001b[0m\u001b[0mDataReader\u001b[0m\u001b[0;34m(\u001b[0m\u001b[0;34m[\u001b[0m\u001b[0;34m'ULTRACEMCO.NS'\u001b[0m\u001b[0;34m]\u001b[0m\u001b[0;34m,\u001b[0m \u001b[0;34m'yahoo'\u001b[0m\u001b[0;34m,\u001b[0m \u001b[0mstart\u001b[0m \u001b[0;34m=\u001b[0m \u001b[0mstart\u001b[0m\u001b[0;34m,\u001b[0m \u001b[0mend\u001b[0m \u001b[0;34m=\u001b[0m \u001b[0mend\u001b[0m\u001b[0;34m)\u001b[0m\u001b[0;34m[\u001b[0m\u001b[0;34m'Close'\u001b[0m\u001b[0;34m]\u001b[0m\u001b[0;34m\u001b[0m\u001b[0;34m\u001b[0m\u001b[0m\n\u001b[0m\u001b[1;32m      6\u001b[0m \u001b[0multratech_df\u001b[0m\u001b[0;34m.\u001b[0m\u001b[0mcolumns\u001b[0m \u001b[0;34m=\u001b[0m \u001b[0;34m{\u001b[0m\u001b[0;34m'Close Price'\u001b[0m\u001b[0;34m}\u001b[0m\u001b[0;34m\u001b[0m\u001b[0;34m\u001b[0m\u001b[0m\n\u001b[1;32m      7\u001b[0m \u001b[0;31m# Create 20 days exponential moving average column\u001b[0m\u001b[0;34m\u001b[0m\u001b[0;34m\u001b[0m\u001b[0;34m\u001b[0m\u001b[0m\n",
            "\u001b[0;32m/usr/local/lib/python3.7/dist-packages/pandas/util/_decorators.py\u001b[0m in \u001b[0;36mwrapper\u001b[0;34m(*args, **kwargs)\u001b[0m\n\u001b[1;32m    205\u001b[0m                 \u001b[0;32melse\u001b[0m\u001b[0;34m:\u001b[0m\u001b[0;34m\u001b[0m\u001b[0;34m\u001b[0m\u001b[0m\n\u001b[1;32m    206\u001b[0m                     \u001b[0mkwargs\u001b[0m\u001b[0;34m[\u001b[0m\u001b[0mnew_arg_name\u001b[0m\u001b[0;34m]\u001b[0m \u001b[0;34m=\u001b[0m \u001b[0mnew_arg_value\u001b[0m\u001b[0;34m\u001b[0m\u001b[0;34m\u001b[0m\u001b[0m\n\u001b[0;32m--> 207\u001b[0;31m             \u001b[0;32mreturn\u001b[0m \u001b[0mfunc\u001b[0m\u001b[0;34m(\u001b[0m\u001b[0;34m*\u001b[0m\u001b[0margs\u001b[0m\u001b[0;34m,\u001b[0m \u001b[0;34m**\u001b[0m\u001b[0mkwargs\u001b[0m\u001b[0;34m)\u001b[0m\u001b[0;34m\u001b[0m\u001b[0;34m\u001b[0m\u001b[0m\n\u001b[0m\u001b[1;32m    208\u001b[0m \u001b[0;34m\u001b[0m\u001b[0m\n\u001b[1;32m    209\u001b[0m         \u001b[0;32mreturn\u001b[0m \u001b[0mcast\u001b[0m\u001b[0;34m(\u001b[0m\u001b[0mF\u001b[0m\u001b[0;34m,\u001b[0m \u001b[0mwrapper\u001b[0m\u001b[0;34m)\u001b[0m\u001b[0;34m\u001b[0m\u001b[0;34m\u001b[0m\u001b[0m\n",
            "\u001b[0;32m/usr/local/lib/python3.7/dist-packages/pandas_datareader/data.py\u001b[0m in \u001b[0;36mDataReader\u001b[0;34m(name, data_source, start, end, retry_count, pause, session, api_key)\u001b[0m\n\u001b[1;32m    382\u001b[0m             \u001b[0mretry_count\u001b[0m\u001b[0;34m=\u001b[0m\u001b[0mretry_count\u001b[0m\u001b[0;34m,\u001b[0m\u001b[0;34m\u001b[0m\u001b[0;34m\u001b[0m\u001b[0m\n\u001b[1;32m    383\u001b[0m             \u001b[0mpause\u001b[0m\u001b[0;34m=\u001b[0m\u001b[0mpause\u001b[0m\u001b[0;34m,\u001b[0m\u001b[0;34m\u001b[0m\u001b[0;34m\u001b[0m\u001b[0m\n\u001b[0;32m--> 384\u001b[0;31m             \u001b[0msession\u001b[0m\u001b[0;34m=\u001b[0m\u001b[0msession\u001b[0m\u001b[0;34m,\u001b[0m\u001b[0;34m\u001b[0m\u001b[0;34m\u001b[0m\u001b[0m\n\u001b[0m\u001b[1;32m    385\u001b[0m         ).read()\n\u001b[1;32m    386\u001b[0m \u001b[0;34m\u001b[0m\u001b[0m\n",
            "\u001b[0;32m/usr/local/lib/python3.7/dist-packages/pandas_datareader/base.py\u001b[0m in \u001b[0;36mread\u001b[0;34m(self)\u001b[0m\n\u001b[1;32m    256\u001b[0m             \u001b[0mdf\u001b[0m \u001b[0;34m=\u001b[0m \u001b[0mself\u001b[0m\u001b[0;34m.\u001b[0m\u001b[0m_dl_mult_symbols\u001b[0m\u001b[0;34m(\u001b[0m\u001b[0mself\u001b[0m\u001b[0;34m.\u001b[0m\u001b[0msymbols\u001b[0m\u001b[0;34m.\u001b[0m\u001b[0mindex\u001b[0m\u001b[0;34m)\u001b[0m\u001b[0;34m\u001b[0m\u001b[0;34m\u001b[0m\u001b[0m\n\u001b[1;32m    257\u001b[0m         \u001b[0;32melse\u001b[0m\u001b[0;34m:\u001b[0m\u001b[0;34m\u001b[0m\u001b[0;34m\u001b[0m\u001b[0m\n\u001b[0;32m--> 258\u001b[0;31m             \u001b[0mdf\u001b[0m \u001b[0;34m=\u001b[0m \u001b[0mself\u001b[0m\u001b[0;34m.\u001b[0m\u001b[0m_dl_mult_symbols\u001b[0m\u001b[0;34m(\u001b[0m\u001b[0mself\u001b[0m\u001b[0;34m.\u001b[0m\u001b[0msymbols\u001b[0m\u001b[0;34m)\u001b[0m\u001b[0;34m\u001b[0m\u001b[0;34m\u001b[0m\u001b[0m\n\u001b[0m\u001b[1;32m    259\u001b[0m         \u001b[0;32mreturn\u001b[0m \u001b[0mdf\u001b[0m\u001b[0;34m\u001b[0m\u001b[0;34m\u001b[0m\u001b[0m\n\u001b[1;32m    260\u001b[0m \u001b[0;34m\u001b[0m\u001b[0m\n",
            "\u001b[0;32m/usr/local/lib/python3.7/dist-packages/pandas_datareader/base.py\u001b[0m in \u001b[0;36m_dl_mult_symbols\u001b[0;34m(self, symbols)\u001b[0m\n\u001b[1;32m    275\u001b[0m         \u001b[0;32mif\u001b[0m \u001b[0mlen\u001b[0m\u001b[0;34m(\u001b[0m\u001b[0mpassed\u001b[0m\u001b[0;34m)\u001b[0m \u001b[0;34m==\u001b[0m \u001b[0;36m0\u001b[0m\u001b[0;34m:\u001b[0m\u001b[0;34m\u001b[0m\u001b[0;34m\u001b[0m\u001b[0m\n\u001b[1;32m    276\u001b[0m             \u001b[0mmsg\u001b[0m \u001b[0;34m=\u001b[0m \u001b[0;34m\"No data fetched using {0!r}\"\u001b[0m\u001b[0;34m\u001b[0m\u001b[0;34m\u001b[0m\u001b[0m\n\u001b[0;32m--> 277\u001b[0;31m             \u001b[0;32mraise\u001b[0m \u001b[0mRemoteDataError\u001b[0m\u001b[0;34m(\u001b[0m\u001b[0mmsg\u001b[0m\u001b[0;34m.\u001b[0m\u001b[0mformat\u001b[0m\u001b[0;34m(\u001b[0m\u001b[0mself\u001b[0m\u001b[0;34m.\u001b[0m\u001b[0m__class__\u001b[0m\u001b[0;34m.\u001b[0m\u001b[0m__name__\u001b[0m\u001b[0;34m)\u001b[0m\u001b[0;34m)\u001b[0m\u001b[0;34m\u001b[0m\u001b[0;34m\u001b[0m\u001b[0m\n\u001b[0m\u001b[1;32m    278\u001b[0m         \u001b[0;32mtry\u001b[0m\u001b[0;34m:\u001b[0m\u001b[0;34m\u001b[0m\u001b[0;34m\u001b[0m\u001b[0m\n\u001b[1;32m    279\u001b[0m             \u001b[0;32mif\u001b[0m \u001b[0mlen\u001b[0m\u001b[0;34m(\u001b[0m\u001b[0mstocks\u001b[0m\u001b[0;34m)\u001b[0m \u001b[0;34m>\u001b[0m \u001b[0;36m0\u001b[0m \u001b[0;32mand\u001b[0m \u001b[0mlen\u001b[0m\u001b[0;34m(\u001b[0m\u001b[0mfailed\u001b[0m\u001b[0;34m)\u001b[0m \u001b[0;34m>\u001b[0m \u001b[0;36m0\u001b[0m \u001b[0;32mand\u001b[0m \u001b[0mlen\u001b[0m\u001b[0;34m(\u001b[0m\u001b[0mpassed\u001b[0m\u001b[0;34m)\u001b[0m \u001b[0;34m>\u001b[0m \u001b[0;36m0\u001b[0m\u001b[0;34m:\u001b[0m\u001b[0;34m\u001b[0m\u001b[0;34m\u001b[0m\u001b[0m\n",
            "\u001b[0;31mRemoteDataError\u001b[0m: No data fetched using 'YahooDailyReader'"
          ]
        }
      ]
    }
  ]
}